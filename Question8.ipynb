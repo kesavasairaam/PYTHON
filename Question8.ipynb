a= [9,8,7,6,5]
import itertools as it
l=[]
l = it.accumulate(list(enumerate(a)), lambda x,y: (y[0], (x[1]*(x[0]+1) + y[1])/(y[0]+1)))
print(list(map(lambda x: x[1], l)))
