import datetime
date = ['17-12-1997','22-04-2011','01-05-1993','19-06-2020']
year=[]
for i in date:
    datem = datetime.datetime.strptime(i, "%d-%m-%Y")
    year.append(str(datem.year))
print(year)
