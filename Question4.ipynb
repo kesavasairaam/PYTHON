ls=['hello','hOw','Dear','ARe','You']
a=[]
for i in range(0,len(ls)):
    s=ls[i]
    if s[1].isupper():
        a.append(s)
print(a)
