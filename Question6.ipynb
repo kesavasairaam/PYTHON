name=['santa Maria','Hello World','Marry christmas','tHank You']
n=[]
s=[]
for i in name:
  n.append(i.split(' ')[0])
  n.append(i.split(' ')[1])
for i in n:
    if i[0].isupper():
      s.append(i)
print(s)
