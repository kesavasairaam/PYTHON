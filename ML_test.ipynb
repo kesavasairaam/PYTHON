{
  "nbformat": 4,
  "nbformat_minor": 0,
  "metadata": {
    "colab": {
      "name": "ML test.ipynb",
      "provenance": [],
      "collapsed_sections": []
    },
    "kernelspec": {
      "name": "python3",
      "display_name": "Python 3"
    },
    "language_info": {
      "name": "python"
    }
  },
  "cells": [
    {
      "cell_type": "code",
      "execution_count": 1,
      "metadata": {
        "id": "Kqv324vFonH9"
      },
      "outputs": [],
      "source": [
        "import pandas as pd"
      ]
    },
    {
      "cell_type": "code",
      "source": [
        "d=pd.read_csv('/content/bank.csv',delimiter=\";\")"
      ],
      "metadata": {
        "id": "mHsML6IAxLwl"
      },
      "execution_count": null,
      "outputs": []
    },
    {
      "cell_type": "code",
      "source": [
        "d"
      ],
      "metadata": {
        "id": "LdLsd6RBzfce"
      },
      "execution_count": null,
      "outputs": []
    },
    {
      "cell_type": "markdown",
      "source": [
        "Q1. What does the primary analysis of several categorical features reveal?"
      ],
      "metadata": {
        "id": "y573KSFBzmLF"
      }
    },
    {
      "cell_type": "markdown",
      "source": [
        "Administrative staff and technical specialists opened the deposit most of all. In relative terms, a high proportion of pensioners and students might be mentioned as well.\n",
        "Although in absolute terms married consumers more often agreed to the service, in relative terms the single was responded better.\n",
        "Best communication channel is secullar.\n",
        "The difference is evident between consumers who already use the services of banks and received a loan.\n",
        "Home ownership does not greatly affect marketing company performance."
      ],
      "metadata": {
        "id": "vjegWEQOztRM"
      }
    },
    {
      "cell_type": "markdown",
      "source": [
        "**Q2. Perform the following Exploratory Data Analysis tasks:**"
      ],
      "metadata": {
        "id": "zAvtFNGcz1S2"
      }
    },
    {
      "cell_type": "markdown",
      "source": [
        "a. Missing Value Analysis"
      ],
      "metadata": {
        "id": "QwUvuvCxz67z"
      }
    },
    {
      "cell_type": "code",
      "source": [
        "d.dropna()"
      ],
      "metadata": {
        "id": "RPKpJ8tm0Cl4"
      },
      "execution_count": null,
      "outputs": []
    },
    {
      "cell_type": "markdown",
      "source": [
        "b. Label Encoding wherever required"
      ],
      "metadata": {
        "id": "LEC6ELdl0Ivi"
      }
    },
    {
      "cell_type": "code",
      "source": [
        "from sklearn.preprocessing import LabelEncoder\n",
        "A = LabelEncoder()\n",
        "d[\"job\"] = A.fit_transform(d[\"job\"])\n",
        "d"
      ],
      "metadata": {
        "id": "FmLXXGhxzffc"
      },
      "execution_count": null,
      "outputs": []
    },
    {
      "cell_type": "markdown",
      "source": [
        "c. Selecting important features based on Random Forest"
      ],
      "metadata": {
        "id": "KedOlJ-n0TeI"
      }
    },
    {
      "cell_type": "markdown",
      "source": [
        "d. Handling unbalanced data using SMOTE"
      ],
      "metadata": {
        "id": "gbbEU_Bd0Yu4"
      }
    },
    {
      "cell_type": "code",
      "source": [
        "from sklearn.datasets import make_classification\n",
        "from collections import Counter\n",
        "from sklearn.datasets import make_classification\n",
        "from imblearn.over_sampling import SMOTE\n",
        "from matplotlib import pyplot\n",
        "from numpy import where\n",
        "x, y = make_classification(n_samples=10000, n_features=2, n_redundant=0,\n",
        "\tn_clusters_per_class=1, weights=[0.99], flip_y=0, random_state=1)"
      ],
      "metadata": {
        "id": "-Gb3huKSzfiO"
      },
      "execution_count": null,
      "outputs": []
    },
    {
      "cell_type": "code",
      "source": [
        "from collections import Counter\n",
        "counter = Counter(y)\n",
        "print(counter)"
      ],
      "metadata": {
        "id": "KUVX0tRfzfla"
      },
      "execution_count": null,
      "outputs": []
    },
    {
      "cell_type": "code",
      "source": [
        "oversample = SMOTE()\n",
        "x, y = oversample.fit_resample(x, y)"
      ],
      "metadata": {
        "id": "TZmCFMGEzfow"
      },
      "execution_count": null,
      "outputs": []
    },
    {
      "cell_type": "code",
      "source": [
        "counter = Counter(y)\n",
        "print(counter)"
      ],
      "metadata": {
        "id": "yYyUwYbw0jq1"
      },
      "execution_count": null,
      "outputs": []
    },
    {
      "cell_type": "code",
      "source": [
        "for label, _ in counter.items():\n",
        "\trow_ix = where(y == label)[0]\n",
        "\tpyplot.scatter(x[row_ix, 0], x[row_ix, 1], label=str(label))\n",
        "pyplot.legend()\n",
        "pyplot.show()"
      ],
      "metadata": {
        "id": "6qNgowVK0pS_"
      },
      "execution_count": null,
      "outputs": []
    },
    {
      "cell_type": "markdown",
      "source": [
        "e. Standardize the data using the anyone of the scalers provided by sklearn"
      ],
      "metadata": {
        "id": "pMCrDHpC08Js"
      }
    },
    {
      "cell_type": "markdown",
      "source": [
        "Q3. Build the following Supervised Learning models:"
      ],
      "metadata": {
        "id": "oZFpaNIk1QGe"
      }
    },
    {
      "cell_type": "markdown",
      "source": [
        "a. Logistic Regression"
      ],
      "metadata": {
        "id": "H0vPvF8V1TKg"
      }
    },
    {
      "cell_type": "code",
      "source": [
        "\n",
        "from sklearn.linear_model import LogisticRegression"
      ],
      "metadata": {
        "id": "YwNpKQwF01ut"
      },
      "execution_count": null,
      "outputs": []
    },
    {
      "cell_type": "code",
      "source": [
        "h=LogisticRegression()"
      ],
      "metadata": {
        "id": "TRHy7g8Q1Y7H"
      },
      "execution_count": null,
      "outputs": []
    },
    {
      "cell_type": "code",
      "source": [
        "from sklearn.model_selection import train_test_split,GridSearchCV,cross_val_score"
      ],
      "metadata": {
        "id": "EN-u-EG-1b7P"
      },
      "execution_count": null,
      "outputs": []
    },
    {
      "cell_type": "code",
      "source": [
        "x1=d.drop(['y'],axis=1).values\n",
        "y1=d['y'].values"
      ],
      "metadata": {
        "id": "AKGEFSQd1fiA"
      },
      "execution_count": null,
      "outputs": []
    },
    {
      "cell_type": "code",
      "source": [
        "from sklearn.preprocessing import LabelEncoder\n",
        "l = LabelEncoder()\n",
        "#assigning numeric value \n",
        "d['y'] = l.fit_transform(d['y'])\n",
        "d"
      ],
      "metadata": {
        "id": "RQ-HIVsZ1imm"
      },
      "execution_count": null,
      "outputs": []
    },
    {
      "cell_type": "code",
      "source": [
        "d1=pd.get_dummies(d)"
      ],
      "metadata": {
        "id": "A5CMRMay1ngH"
      },
      "execution_count": null,
      "outputs": []
    },
    {
      "cell_type": "code",
      "source": [
        "x=d1.drop(['y'],axis=1).values\n",
        "y=d1['y'].values"
      ],
      "metadata": {
        "id": "vxiS41kR1qmX"
      },
      "execution_count": null,
      "outputs": []
    },
    {
      "cell_type": "code",
      "source": [
        "from sklearn.model_selection import train_test_split"
      ],
      "metadata": {
        "id": "S_SoSNb01tpg"
      },
      "execution_count": null,
      "outputs": []
    },
    {
      "cell_type": "code",
      "source": [
        "xtrain,xtest,ytrain,ytest=train_test_split(x,y,test_size=.20,random_state=0)"
      ],
      "metadata": {
        "id": "vG5Tt2jB1u4-"
      },
      "execution_count": null,
      "outputs": []
    },
    {
      "cell_type": "code",
      "source": [
        "from sklearn.linear_model import LogisticRegression"
      ],
      "metadata": {
        "id": "5Wsah93b1xgT"
      },
      "execution_count": null,
      "outputs": []
    },
    {
      "cell_type": "code",
      "source": [
        "i=LogisticRegression()"
      ],
      "metadata": {
        "id": "5_vo6_Dt1xjI"
      },
      "execution_count": null,
      "outputs": []
    },
    {
      "cell_type": "code",
      "source": [
        "i.fit(xtrain,ytrain)"
      ],
      "metadata": {
        "id": "RFqGKv4q1xmP"
      },
      "execution_count": null,
      "outputs": []
    },
    {
      "cell_type": "code",
      "source": [
        "p=i.predict(xtest)\n",
        "i.predict_proba(xtest)"
      ],
      "metadata": {
        "id": "Bw34FkcR1xpR"
      },
      "execution_count": null,
      "outputs": []
    },
    {
      "cell_type": "code",
      "source": [
        "from sklearn.metrics import accuracy_score,classification_report,confusion_matrix"
      ],
      "metadata": {
        "id": "j99tCoq_1xvg"
      },
      "execution_count": null,
      "outputs": []
    },
    {
      "cell_type": "code",
      "source": [
        "accuracy_score(ytest,p)"
      ],
      "metadata": {
        "id": "YjAuE_H21x2_"
      },
      "execution_count": null,
      "outputs": []
    },
    {
      "cell_type": "code",
      "source": [
        "confusion_matrix(ytest,p)"
      ],
      "metadata": {
        "id": "vS32jH632I7b"
      },
      "execution_count": null,
      "outputs": []
    },
    {
      "cell_type": "code",
      "source": [
        "s=classification_report(ytest,p)"
      ],
      "metadata": {
        "id": "5IGz7_an2I-j"
      },
      "execution_count": null,
      "outputs": []
    },
    {
      "cell_type": "code",
      "source": [
        "print(s)"
      ],
      "metadata": {
        "id": "nY9OledL2JCq"
      },
      "execution_count": null,
      "outputs": []
    },
    {
      "cell_type": "markdown",
      "source": [
        "**b. AdaBoost**"
      ],
      "metadata": {
        "id": "z-YC8vPm2TlM"
      }
    },
    {
      "cell_type": "markdown",
      "source": [
        "c. Naïve Bayes"
      ],
      "metadata": {
        "id": "DOnsLHXl2Wf1"
      }
    },
    {
      "cell_type": "code",
      "source": [
        "from sklearn.naive_bayes import GaussianNB"
      ],
      "metadata": {
        "id": "V7_TqmAf2czP"
      },
      "execution_count": null,
      "outputs": []
    },
    {
      "cell_type": "code",
      "source": [
        "import matplotlib.pyplot as plt\n",
        "from sklearn.metrics import roc_auc_score,auc\n",
        "from sklearn.metrics import roc_curve"
      ],
      "metadata": {
        "id": "cau45HcG2JF0"
      },
      "execution_count": null,
      "outputs": []
    },
    {
      "cell_type": "code",
      "source": [
        "x_train,x_test,y_train,y_test=train_test_split(x,y,test_size=0.15,random_state=0)"
      ],
      "metadata": {
        "id": "YBoJR_Xp2for"
      },
      "execution_count": null,
      "outputs": []
    },
    {
      "cell_type": "code",
      "source": [
        "c=GaussianNB()\n",
        "c.fit(x_train,y_train)"
      ],
      "metadata": {
        "id": "m7Nhm8Wv2frj"
      },
      "execution_count": null,
      "outputs": []
    },
    {
      "cell_type": "code",
      "source": [
        "p=c.predict(x_test)"
      ],
      "metadata": {
        "id": "fzmtuivL2fuq"
      },
      "execution_count": null,
      "outputs": []
    },
    {
      "cell_type": "code",
      "source": [
        "accuracy_score(y_test,p)"
      ],
      "metadata": {
        "id": "ngewaiRk2fxI"
      },
      "execution_count": null,
      "outputs": []
    },
    {
      "cell_type": "code",
      "source": [
        "z=classification_report(y_test,p)\n",
        "print(z)"
      ],
      "metadata": {
        "id": "4_-ZVYIj2f0q"
      },
      "execution_count": null,
      "outputs": []
    },
    {
      "cell_type": "markdown",
      "source": [
        "d. KNN"
      ],
      "metadata": {
        "id": "C-_SKiyp2wzP"
      }
    },
    {
      "cell_type": "code",
      "source": [
        "from sklearn.neighbors import KNeighborsClassifier"
      ],
      "metadata": {
        "id": "Zf1MZRQf2sk8"
      },
      "execution_count": null,
      "outputs": []
    },
    {
      "cell_type": "code",
      "source": [
        "xtrain,xtest,ytrain,ytest=train_test_split(x,y,test_size=.25,random_state=0)"
      ],
      "metadata": {
        "id": "t7BtvcqT2sni"
      },
      "execution_count": null,
      "outputs": []
    },
    {
      "cell_type": "code",
      "source": [
        "from sklearn.preprocessing import StandardScaler"
      ],
      "metadata": {
        "id": "HpHHeyGA2sq9"
      },
      "execution_count": null,
      "outputs": []
    },
    {
      "cell_type": "code",
      "source": [
        "s=StandardScaler()"
      ],
      "metadata": {
        "id": "_fUsMbiU2st_"
      },
      "execution_count": null,
      "outputs": []
    },
    {
      "cell_type": "code",
      "source": [
        "e=KNeighborsClassifier(n_neighbors=5,metric='minkowski',p=2)\n",
        "e.fit(xtrain,ytrain)"
      ],
      "metadata": {
        "id": "MF6CN4qc2f4C"
      },
      "execution_count": null,
      "outputs": []
    },
    {
      "cell_type": "code",
      "source": [
        "t=e.predict(xtest)"
      ],
      "metadata": {
        "id": "rairRV553BRQ"
      },
      "execution_count": null,
      "outputs": []
    },
    {
      "cell_type": "code",
      "source": [
        "e.predict_proba(xtest)"
      ],
      "metadata": {
        "id": "wa7VzR5b3BUl"
      },
      "execution_count": null,
      "outputs": []
    },
    {
      "cell_type": "code",
      "source": [
        "accuracy_score(ytest,t)"
      ],
      "metadata": {
        "id": "esa097tU3BZy"
      },
      "execution_count": null,
      "outputs": []
    },
    {
      "cell_type": "code",
      "source": [
        "u=classification_report(ytest,t)\n",
        "print(u)"
      ],
      "metadata": {
        "id": "w3KQeuak3BdM"
      },
      "execution_count": null,
      "outputs": []
    },
    {
      "cell_type": "markdown",
      "source": [
        "e. SVM"
      ],
      "metadata": {
        "id": "gh2-kG2b3Vpc"
      }
    },
    {
      "cell_type": "code",
      "source": [
        "from sklearn.svm import SVC"
      ],
      "metadata": {
        "id": "pCzyfSPj3RQy"
      },
      "execution_count": null,
      "outputs": []
    },
    {
      "cell_type": "code",
      "source": [
        "k=SVC(probability=True)"
      ],
      "metadata": {
        "id": "Q0EocgyO3hqi"
      },
      "execution_count": null,
      "outputs": []
    },
    {
      "cell_type": "code",
      "source": [
        "xtrain,xtest,ytrain,ytest=train_test_split(x,y,test_size=.20,random_state=0)"
      ],
      "metadata": {
        "id": "AWQb82iP3iBK"
      },
      "execution_count": null,
      "outputs": []
    },
    {
      "cell_type": "code",
      "source": [
        "k.fit(xtrain,ytrain)"
      ],
      "metadata": {
        "id": "e5ZxkixW3nF-"
      },
      "execution_count": null,
      "outputs": []
    },
    {
      "cell_type": "code",
      "source": [
        "i=k.predict(xtest)"
      ],
      "metadata": {
        "id": "VQ3Ez7JQ3nWz"
      },
      "execution_count": null,
      "outputs": []
    },
    {
      "cell_type": "code",
      "source": [
        "k.predict_proba(xtest)"
      ],
      "metadata": {
        "id": "U8wuwohP3xOD"
      },
      "execution_count": null,
      "outputs": []
    },
    {
      "cell_type": "code",
      "source": [
        "accuracy_score(ytest,i)"
      ],
      "metadata": {
        "id": "7aodAqED3xXV"
      },
      "execution_count": null,
      "outputs": []
    },
    {
      "cell_type": "code",
      "source": [
        "confusion_matrix(ytest,i)"
      ],
      "metadata": {
        "id": "Vtb0OoI33xao"
      },
      "execution_count": null,
      "outputs": []
    },
    {
      "cell_type": "code",
      "source": [
        "o=classification_report(ytest,i)\n",
        "print(o)"
      ],
      "metadata": {
        "id": "BY21FZYd35th"
      },
      "execution_count": null,
      "outputs": []
    },
    {
      "cell_type": "markdown",
      "source": [
        "Q4. Tabulate the performance metrics of all the above models and tell which model performs better in predicting if the client will subscribe to term deposit or not"
      ],
      "metadata": {
        "id": "90PDm7ba4J6o"
      }
    },
    {
      "cell_type": "code",
      "source": [
        "s=pd.read_excel('/content/Accuracy.xlsx')"
      ],
      "metadata": {
        "id": "D6QY4Awn35w0"
      },
      "execution_count": null,
      "outputs": []
    },
    {
      "cell_type": "markdown",
      "source": [
        "As analyzed above with several models, Logistic Regression Has the Highest Accuracy with 92%"
      ],
      "metadata": {
        "id": "iZieZM8M4QNM"
      }
    },
    {
      "cell_type": "markdown",
      "source": [
        "Double-click (or enter) to edit"
      ],
      "metadata": {
        "id": "nmPwUtIP4S6V"
      }
    },
    {
      "cell_type": "code",
      "source": [
        "import numpy as np\n",
        "import pandas as pd\n",
        "import matplotlib.pyplot as plt\n",
        "data=pd.read_csv(\"/content/MonthWiseMarketArrivals_Clean.csv\")\n",
        "data.head()"
      ],
      "metadata": {
        "id": "Sp9j8y0d4V5P"
      },
      "execution_count": null,
      "outputs": []
    },
    {
      "cell_type": "code",
      "source": [
        "data.info()"
      ],
      "metadata": {
        "id": "cuvztZ1v351u"
      },
      "execution_count": null,
      "outputs": []
    },
    {
      "cell_type": "code",
      "source": [
        "data1=data.loc[data.city==\"MUMBAI\"]\n",
        "data1"
      ],
      "metadata": {
        "id": "aO1wJexF4bwV"
      },
      "execution_count": null,
      "outputs": []
    },
    {
      "cell_type": "code",
      "source": [
        "data2=data1.drop([\"month\",\"year\",\"quantity\",\"priceMin\",\"priceMax\",\"state\",\"city\"],axis=1)\n",
        "data2"
      ],
      "metadata": {
        "id": "CMkDRJyY4evw"
      },
      "execution_count": null,
      "outputs": []
    },
    {
      "cell_type": "code",
      "source": [
        "data1.index=pd.PeriodIndex(data1.date,freq='M')\n",
        "data1"
      ],
      "metadata": {
        "id": "9siKYZqO4hvr"
      },
      "execution_count": null,
      "outputs": []
    }
  ]
}